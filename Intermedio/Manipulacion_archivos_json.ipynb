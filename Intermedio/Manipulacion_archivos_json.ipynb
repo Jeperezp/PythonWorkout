{
 "cells": [
  {
   "cell_type": "markdown",
   "metadata": {},
   "source": [
    "# Manipulación de Archivos JSON en Python: Lectura, Escritura y Modificación\n",
    "\n",
    "## Introducción\n",
    "JSON (JavaScript Object Notation) es un formato ligero de intercambio de datos que es fácil de leer y escribir para los humanos, y fácil de analizar y generar para las máquinas. Su sintaxis es un subconjunto de la notación de objetos de JavaScript, lo que lo convierte en un formato ampliamente utilizado en aplicaciones web para el intercambio de datos entre clientes y servidores.\n",
    "\n",
    "Los archivos JSON son particularmente útiles para almacenar datos estructurados de manera jerárquica. Debido a su simplicidad y flexibilidad, JSON se ha convertido en el formato preferido para APIs y aplicaciones que requieren la transferencia de datos.\n",
    "\n",
    "En este notebook, exploraremos cómo trabajar con archivos JSON en Python, incluyendo:\n",
    "\n",
    "1. **Lectura de Archivos JSON**: Cómo cargar datos desde un archivo JSON y convertirlos en estructuras de datos de Python.\n",
    "2. **Escritura de Archivos JSON**: Cómo guardar estructuras de datos de Python en archivos JSON.\n",
    "3. **Modificación de Archivos JSON**: Cómo actualizar y modificar datos en archivos JSON existentes.\n",
    "\n",
    "A lo largo del notebook, proporcionaremos ejemplos prácticos que ilustran cada uno de estos conceptos, permitiendo una comprensión clara y concisa de la manipulación de archivos JSON en Python.\n"
   ]
  },
  {
   "cell_type": "code",
   "execution_count": 1,
   "metadata": {},
   "outputs": [],
   "source": [
    "import json"
   ]
  },
  {
   "cell_type": "code",
   "execution_count": 9,
   "metadata": {},
   "outputs": [],
   "source": [
    "#funcion para lectura de Archivos Json\n",
    "def Lectura_json (path_file_json):\n",
    "    \"\"\"\n",
    "    Lee un archivo JSON y devuelve su contenido como un diccionario.\n",
    "    \n",
    "    Parámetros:\n",
    "    path_file_json (str): Ruta del archivo JSON.\n",
    "    \n",
    "    Ejemplo:\n",
    "    >>> lectura_json(\"C/user/file.json\")\n",
    "    \n",
    "    Retorna:\n",
    "    dict: Contenido del archivo JSON.\n",
    "    \"\"\"\n",
    "    # Manejo de Excepciones\n",
    "    try:\n",
    "    # Abre el archivo JSON en modo lectura ('r') y con codificación 'utf-8' para soportar caracteres especiales.\n",
    "        with open(path_file_json, 'r', encoding='utf-8') as file:\n",
    "            # Carga el contenido del archivo JSON en un diccionario usando json.load().\n",
    "            file_json = json.load(file)\n",
    "            # Retorna el contenido del archivo JSON como un diccionario.\n",
    "        return file_json\n",
    "    # Maneja el error si el archivo no se encuentra en la ruta especificada.\n",
    "    except FileNotFoundError:\n",
    "        print(f\"Error: El archivo '{path_file_json}' no fue encontrado.\")\n",
    "        return None\n",
    "    # Maneja el error si el contenido del archivo no es un JSON válido.\n",
    "    except json.JSONDecodeError:\n",
    "        print(f\"Error: El archivo '{path_file_json}' no es un JSON válido.\")\n",
    "        return None\n",
    "    # Captura cualquier otro error inesperado.\n",
    "    except Exception as e:\n",
    "        print(f\"Error inesperado: {e}\")\n",
    "        return None"
   ]
  },
  {
   "cell_type": "code",
   "execution_count": 10,
   "metadata": {},
   "outputs": [],
   "source": [
    "def escribir_json(data, path_file_json):\n",
    "    \"\"\"\n",
    "    Escribe datos en un archivo JSON.\n",
    "\n",
    "    Parámetros:\n",
    "    data (dict or list): Los datos que se desean guardar en el archivo JSON, pueden ser un diccionario o una lista.\n",
    "    path_file_json (str): La ruta del archivo donde se guardarán los datos.\n",
    "\n",
    "    Ejemplo:\n",
    "    >>> data = {\"nombre\": \"Juan\", \"edad\": 30}\n",
    "    >>> escribir_json(data, \"C:/user/archivo.json\")\n",
    "    \"\"\"\n",
    "    # Abre el archivo en modo de escritura ('w'). Si el archivo no existe, lo crea.\n",
    "    with open(path_file_json, 'w') as f:\n",
    "        # Escribe los datos en el archivo JSON utilizando json.dump().\n",
    "        # 'indent=4' agrega una sangría de 4 espacios para que el JSON sea más legible.\n",
    "        json.dump(data, f, indent=4)\n"
   ]
  },
  {
   "cell_type": "markdown",
   "metadata": {},
   "source": [
    "## Recomendación: Leer el Archivo JSON antes de Modificar Registros\n",
    "\n",
    "Cuando trabajamos con archivos JSON, es importante primero comprender la estructura del archivo antes de intentar modificar su contenido. Esto nos permitirá identificar las claves y valores que queremos actualizar y asegurar que la función de modificación funcione de manera adecuada.\n",
    "\n",
    "### Paso 1: Leer el Archivo JSON\n",
    "Antes de realizar cualquier modificación, se recomienda leer el archivo JSON para conocer su estructura. Esto nos ayudará a identificar las claves principales y cómo están organizados los datos.\n",
    "\n",
    "A continuación, un ejemplo de código para leer un archivo JSON:\n",
    "\n",
    "```python\n",
    "contendido = Lectura_json(\"Archivos_1.json\")\n",
    "```\n",
    "\n",
    "# Ejemplo de uso\n",
    "ruta_archivo = 'path/to/your/json_file.json'\n",
    "contendido = Lectura_json(\"Archivos_1.json\")\n",
    "print(json.dumps(contendido, indent=4))\n"
   ]
  },
  {
   "cell_type": "code",
   "execution_count": 14,
   "metadata": {},
   "outputs": [
    {
     "name": "stdout",
     "output_type": "stream",
     "text": [
      "{\n",
      "    \"libros\": [\n",
      "        {\n",
      "            \"titulo\": \"Cien a\\u00f1os de soledad\",\n",
      "            \"autor\": \"Gabriel Garc\\u00eda M\\u00e1rquez\",\n",
      "            \"anio_publicacion\": 1967,\n",
      "            \"genero\": \"Realismo m\\u00e1gico\",\n",
      "            \"precio\": 19.99\n",
      "        },\n",
      "        {\n",
      "            \"titulo\": \"1984\",\n",
      "            \"autor\": \"George Orwell\",\n",
      "            \"anio_publicacion\": 1949,\n",
      "            \"genero\": \"Distop\\u00eda\",\n",
      "            \"precio\": 14.99\n",
      "        },\n",
      "        {\n",
      "            \"titulo\": \"El amor en los tiempos del c\\u00f3lera\",\n",
      "            \"autor\": \"Gabriel Garc\\u00eda M\\u00e1rquez\",\n",
      "            \"anio_publicacion\": 1985,\n",
      "            \"genero\": \"Novela rom\\u00e1ntica\",\n",
      "            \"precio\": 18.5\n",
      "        }\n",
      "    ]\n",
      "}\n"
     ]
    }
   ],
   "source": [
    "contendido = Lectura_json(\"Archivos_1.json\")\n",
    "print(json.dumps(contendido, indent=4))"
   ]
  },
  {
   "cell_type": "markdown",
   "metadata": {},
   "source": [
    "Creamos una funcion ajustada a la estructura de los datos de archivo cargado"
   ]
  },
  {
   "cell_type": "code",
   "execution_count": 13,
   "metadata": {},
   "outputs": [],
   "source": [
    "def modificar_json(data, path_file_json, key_principal):\n",
    "    \"\"\"\n",
    "    Modifica un registro específico dentro de un archivo JSON.\n",
    "\n",
    "    Parameters:\n",
    "    - data (dict): Los nuevos datos que se quieren actualizar.\n",
    "    - path_file_json (str): Ruta del archivo JSON que se va a modificar.\n",
    "    - key_principal (str): Clave principal que contiene la lista de registros (e.g., \"libros\").\n",
    "    \"\"\"\n",
    "    # Leer el archivo JSON existente\n",
    "    contenido_json = Lectura_json(path_file_json)\n",
    "    registros = contenido_json[key_principal]\n",
    "\n",
    "    # Variable para indicar si el registro fue actualizado\n",
    "    registro_actualizado = False\n",
    "\n",
    "    # Buscar el registro con el mismo \"titulo\" que se está procesando\n",
    "    for registro in registros:\n",
    "        if registro[\"titulo\"] == data[\"titulo\"]:\n",
    "            # Actualiza solo el registro que coincide con el título\n",
    "            registro[\"autor\"] = data[\"autor\"]\n",
    "            registro[\"anio_publicacion\"] = data[\"anio_publicacion\"]\n",
    "            registro[\"genero\"] = data[\"genero\"]\n",
    "            registro[\"precio\"] = data[\"precio\"]\n",
    "            registro_actualizado = True\n",
    "            break  # Deja de buscar una vez que se actualiza el registro\n",
    "    \n",
    "    # Guardar cambios si se actualizó el registro\n",
    "    if registro_actualizado:\n",
    "        escribir_json(contenido_json, path_file_json)\n",
    "        print(f'Registro del título \"{data[\"titulo\"]}\" actualizado.')\n",
    "    else:\n",
    "        print(f'No se encontró un registro con el título \"{data[\"titulo\"]}\".')\n"
   ]
  }
 ],
 "metadata": {
  "kernelspec": {
   "display_name": "Python 3",
   "language": "python",
   "name": "python3"
  },
  "language_info": {
   "codemirror_mode": {
    "name": "ipython",
    "version": 3
   },
   "file_extension": ".py",
   "mimetype": "text/x-python",
   "name": "python",
   "nbconvert_exporter": "python",
   "pygments_lexer": "ipython3",
   "version": "3.12.2"
  }
 },
 "nbformat": 4,
 "nbformat_minor": 2
}
